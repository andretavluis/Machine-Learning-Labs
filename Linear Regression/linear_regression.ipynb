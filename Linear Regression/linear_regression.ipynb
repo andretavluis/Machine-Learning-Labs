{
 "cells": [
  {
   "cell_type": "code",
   "execution_count": 279,
   "metadata": {},
   "outputs": [],
   "source": [
    "import os\n",
    "os.getcwd()\n",
    "\n",
    "import numpy as np\n",
    "import matplotlib.pyplot as plt\n"
   ]
  },
  {
   "cell_type": "code",
   "execution_count": 235,
   "metadata": {},
   "outputs": [],
   "source": [
    "x = np.load('data\\data1_x.npy')\n",
    "y = np.load('data\\data1_y.npy')\n",
    "\n",
    "x = x - np.mean(x)\n",
    "y = y - np.mean(y)"
   ]
  },
  {
   "cell_type": "code",
   "execution_count": 236,
   "metadata": {},
   "outputs": [],
   "source": [
    "#useless but it sorts a list\n",
    "def sort_array(x):\n",
    "    for i in range(0,len(x)):\n",
    "        for j in range(i+1, len(x)):\n",
    "            if x[i]>x[j]:\n",
    "                temp = x[i];    \n",
    "                x[i] = x[j];    \n",
    "                x[j] = temp; \n",
    "    return x"
   ]
  },
  {
   "cell_type": "code",
   "execution_count": 237,
   "metadata": {},
   "outputs": [],
   "source": [
    "#sort x and y ascendingly\n",
    "x = x[x[:,0].argsort()]\n",
    "y = y[y[:,0].argsort()]"
   ]
  },
  {
   "cell_type": "code",
   "execution_count": 286,
   "metadata": {},
   "outputs": [],
   "source": [
    "def linReg(x, y, p):\n",
    "    xtrain = x\n",
    "    \n",
    "    xtxinv = np.linalg.inv(np.matmul(np.transpose(xtrain), xtrain))\n",
    "    xty = np.matmul(np.transpose(xtrain), y)\n",
    "    betas = np.matmul(xtxinv, xty)\n",
    "    \n",
    "    y_pred = np.matmul(xtrain, betas)\n",
    "    sse = np.sum(np.power(y-y_pred, 2))\n",
    "    \n",
    "    print('Parameter estimates: ', betas, '\\nSum of Squared Errors: ', sse)\n",
    "    print(x)\n",
    "    \n",
    "    plt.scatter(xtrain,y)\n",
    "    plt.plot(xtrain, y_pred, 'g')\n",
    "    plt.title('Linear Regression')\n",
    "    plt.xlabel('x')\n",
    "    plt.ylabel('y')\n",
    "    \n",
    "    return betas, sse\n"
   ]
  },
  {
   "cell_type": "code",
   "execution_count": 287,
   "metadata": {},
   "outputs": [
    {
     "name": "stdout",
     "output_type": "stream",
     "text": [
      "Parameter estimates:  [[1.74662083]] \n",
      "Sum of Squared Errors:  0.3379365342322449\n",
      "[[-0.8238786 ]\n",
      " [-0.75633169]\n",
      " [-0.72673386]\n",
      " [-0.68821786]\n",
      " [-0.65348927]\n",
      " [-0.60490931]\n",
      " [-0.60284137]\n",
      " [-0.43987646]\n",
      " [-0.29848208]\n",
      " [-0.16170214]\n",
      " [-0.1572957 ]\n",
      " [ 0.17024324]\n",
      " [ 0.17515302]\n",
      " [ 0.4361288 ]\n",
      " [ 0.55821701]\n",
      " [ 0.59136984]\n",
      " [ 0.84105241]\n",
      " [ 0.88826103]\n",
      " [ 1.12538598]\n",
      " [ 1.127947  ]]\n"
     ]
    },
    {
     "data": {
      "text/plain": [
       "(array([[1.74662083]]), 0.3379365342322449)"
      ]
     },
     "execution_count": 287,
     "metadata": {},
     "output_type": "execute_result"
    },
    {
     "data": {
      "image/png": "[encoded data removed]",
      "text/plain": [
       "<Figure size 432x288 with 1 Axes>"
      ]
     },
     "metadata": {
      "needs_background": "light"
     },
     "output_type": "display_data"
    }
   ],
   "source": [
    "linReg(x,y,1)"
   ]
  },
  {
   "cell_type": "markdown",
   "metadata": {},
   "source": [
    "# Polynomial regression"
   ]
  },
  {
   "cell_type": "code",
   "execution_count": 497,
   "metadata": {},
   "outputs": [],
   "source": [
    "x2 = np.load('data\\data2_x.npy')\n",
    "y2 = np.load('data\\data2_y.npy')\n",
    "#x2 = x2 - np.mean(x2)\n",
    "#y2 = y2 - np.mean(y2)"
   ]
  },
  {
   "cell_type": "code",
   "execution_count": 498,
   "metadata": {},
   "outputs": [],
   "source": [
    "#reorder\n",
    "index = np.argsort(x2, axis = 0).reshape((-1,))\n",
    "x2 = x2[index]\n",
    "y2 = y2[index]\n"
   ]
  },
  {
   "cell_type": "code",
   "execution_count": 499,
   "metadata": {},
   "outputs": [],
   "source": [
    "def polyReg(x, y, p=2):\n",
    "    a=np.ones((50,1)) \n",
    "    xpoly = x**2\n",
    "    xtrain = np.column_stack((a, x, xpoly))\n",
    "    \n",
    "    xtxinv = np.linalg.inv(np.matmul(np.transpose(xtrain), xtrain))\n",
    "    xty = np.matmul(np.transpose(xtrain), y)\n",
    "    betas = np.matmul(xtxinv, xty)\n",
    "    y_pred = np.matmul(xtrain, betas)\n",
    "    \n",
    "    errors = y-y_pred\n",
    "    sse = np.sum(np.power(errors, 2))\n",
    "    \n",
    "    print('Parameter estimates: ', betas, '\\nSum of Squared Errors: ', sse)\n",
    "    \n",
    "    plt.scatter(x,y)\n",
    "    plt.plot(x, y_pred, 'g')\n",
    "    return errors\n",
    "    "
   ]
  },
  {
   "cell_type": "code",
   "execution_count": 500,
   "metadata": {},
   "outputs": [
    {
     "name": "stdout",
     "output_type": "stream",
     "text": [
      "Parameter estimates:  [[ 0.97571963]\n",
      " [-0.02571951]\n",
      " [-1.53223529]] \n",
      "Sum of Squared Errors:  1.3415937153692248\n"
     ]
    },
    {
     "data": {
      "text/plain": [
       "array([[ 0.2010945 ],\n",
       "       [ 0.06284827],\n",
       "       [ 0.18217912],\n",
       "       [ 0.16467569],\n",
       "       [-0.28221832],\n",
       "       [-0.0891696 ],\n",
       "       [ 0.07721457],\n",
       "       [ 0.21267139],\n",
       "       [ 0.09269126],\n",
       "       [-0.30309585],\n",
       "       [-0.20808647],\n",
       "       [-0.03930453],\n",
       "       [-0.14144896],\n",
       "       [ 0.00993874],\n",
       "       [-0.40892404],\n",
       "       [-0.33197131],\n",
       "       [ 0.14189106],\n",
       "       [-0.01552197],\n",
       "       [ 0.10904146],\n",
       "       [ 0.02094377],\n",
       "       [-0.08299414],\n",
       "       [ 0.31097431],\n",
       "       [-0.02146116],\n",
       "       [ 0.03439001],\n",
       "       [ 0.02719603],\n",
       "       [ 0.29591591],\n",
       "       [ 0.20588483],\n",
       "       [ 0.3528229 ],\n",
       "       [-0.06271606],\n",
       "       [ 0.06722927],\n",
       "       [-0.00360082],\n",
       "       [-0.02230597],\n",
       "       [ 0.0997765 ],\n",
       "       [ 0.00172135],\n",
       "       [-0.14051787],\n",
       "       [-0.07844775],\n",
       "       [-0.20609917],\n",
       "       [-0.10490245],\n",
       "       [-0.00048261],\n",
       "       [-0.11897804],\n",
       "       [-0.03724296],\n",
       "       [ 0.05020725],\n",
       "       [-0.09690564],\n",
       "       [-0.09265526],\n",
       "       [-0.21169012],\n",
       "       [ 0.03887182],\n",
       "       [-0.09337016],\n",
       "       [ 0.07360121],\n",
       "       [ 0.21506951],\n",
       "       [ 0.14526047]])"
      ]
     },
     "execution_count": 500,
     "metadata": {},
     "output_type": "execute_result"
    },
    {
     "data": {
      "image/png": "[encoded data removed]",
      "text/plain": [
       "<Figure size 432x288 with 1 Axes>"
      ]
     },
     "metadata": {
      "needs_background": "light"
     },
     "output_type": "display_data"
    }
   ],
   "source": [
    "polyReg(x2, y2)"
   ]
  },
  {
   "cell_type": "code",
   "execution_count": null,
   "metadata": {},
   "outputs": [],
   "source": []
  },
  {
   "cell_type": "code",
   "execution_count": 501,
   "metadata": {},
   "outputs": [],
   "source": [
    "x2a = np.load('data\\data2a_x.npy')\n",
    "y2a = np.load('data\\data2a_y.npy')"
   ]
  },
  {
   "cell_type": "code",
   "execution_count": 502,
   "metadata": {},
   "outputs": [],
   "source": [
    "#reorder\n",
    "index = np.argsort(x2a, axis = 0).reshape((-1,))\n",
    "x2a = x2a[index]\n",
    "y2a = y2a[index]"
   ]
  },
  {
   "cell_type": "code",
   "execution_count": 503,
   "metadata": {},
   "outputs": [
    {
     "name": "stdout",
     "output_type": "stream",
     "text": [
      "Parameter estimates:  [ 1.08683863  0.05615907 -1.60379935] \n",
      "Sum of Squared Errors:  9.890106848617197\n"
     ]
    },
    {
     "data": {
      "text/plain": [
       "array([ 0.23935343,  0.09888539,  0.21206885,  0.19423213, -0.27137975,\n",
       "       -0.08300972,  0.07194593,  0.20100947,  0.07263205, -0.32739835,\n",
       "       -0.23381655, -0.07186067, -0.17994815, -0.04439071, -0.46369878,\n",
       "       -0.39742633,  0.07495609, -0.08275806,  0.0293684 , -0.07982085,\n",
       "       -0.18480237,  0.20495851, -0.13184984,  2.21840409, -0.09203223,\n",
       "        0.17628055,  0.0816342 ,  0.22725039, -0.19062115, -0.06210934,\n",
       "       -0.13356012, -0.15363831, -0.03156171, -0.13040806, -0.27411797,\n",
       "       -0.21219894, -0.34031303, -0.23934199, -0.13412986, -0.25192691,\n",
       "       -0.16929294, -0.08149278, -0.22856518,  1.77619861, -0.34128722,\n",
       "       -0.09061182, -0.22276828, -0.05423139,  0.0882613 ,  0.01892997])"
      ]
     },
     "execution_count": 503,
     "metadata": {},
     "output_type": "execute_result"
    },
    {
     "data": {
      "image/png": "[encoded data removed]",
      "text/plain": [
       "<Figure size 432x288 with 1 Axes>"
      ]
     },
     "metadata": {
      "needs_background": "light"
     },
     "output_type": "display_data"
    }
   ],
   "source": [
    "polyReg(x2a, y2a)"
   ]
  },
  {
   "cell_type": "code",
   "execution_count": 508,
   "metadata": {},
   "outputs": [
    {
     "name": "stdout",
     "output_type": "stream",
     "text": [
      "Parameter estimates:  [ 1.08683863  0.05615907 -1.60379935] \n",
      "Sum of Squared Errors:  9.890106848617197\n"
     ]
    },
    {
     "data": {
      "image/png": "[encoded data removed]",
      "text/plain": [
       "<Figure size 432x288 with 1 Axes>"
      ]
     },
     "metadata": {
      "needs_background": "light"
     },
     "output_type": "display_data"
    }
   ],
   "source": [
    "error_inliers = []\n",
    "\n",
    "for error in polyReg(x2a, y2a):\n",
    "    if abs(error) > 1:\n",
    "        error_inliers.append(error)\n",
    "    else: pass\n",
    "        "
   ]
  },
  {
   "cell_type": "code",
   "execution_count": 511,
   "metadata": {},
   "outputs": [
    {
     "name": "stdout",
     "output_type": "stream",
     "text": [
      "SSE without outliers:  3.9946027049095596\n"
     ]
    }
   ],
   "source": [
    "print('SSE without outliers: ', np.sum(error_inliers))"
   ]
  },
  {
   "cell_type": "code",
   "execution_count": null,
   "metadata": {},
   "outputs": [],
   "source": []
  },
  {
   "cell_type": "markdown",
   "metadata": {},
   "source": [
    "Regularization using Ridge and Lasso regression"
   ]
  },
  {
   "cell_type": "code",
   "execution_count": 518,
   "metadata": {},
   "outputs": [],
   "source": [
    "import sklearn.linear_model as sk"
   ]
  },
  {
   "cell_type": "code",
   "execution_count": 519,
   "metadata": {},
   "outputs": [],
   "source": [
    "x = np.load('data\\data3_x.npy')\n",
    "y = np.load('data\\data3_y.npy')"
   ]
  },
  {
   "cell_type": "code",
   "execution_count": 561,
   "metadata": {},
   "outputs": [
    {
     "data": {
      "text/plain": [
       "Lasso()"
      ]
     },
     "execution_count": 561,
     "metadata": {},
     "output_type": "execute_result"
    }
   ],
   "source": [
    "sk.Ridge()\n",
    "sk.Lasso()"
   ]
  },
  {
   "cell_type": "markdown",
   "metadata": {},
   "source": [
    "Ridge Regression"
   ]
  },
  {
   "cell_type": "code",
   "execution_count": 562,
   "metadata": {},
   "outputs": [
    {
     "data": {
      "text/plain": [
       "array([29.85351315])"
      ]
     },
     "execution_count": 562,
     "metadata": {},
     "output_type": "execute_result"
    }
   ],
   "source": [
    "coefs_x0 = []\n",
    "coefs_x1 = []\n",
    "coefs_x2 = []\n",
    "\n",
    "alphas = []\n",
    "\n",
    "for alpha in np.arange(0.01, 10, 0.01):\n",
    "    rr = sk.Ridge(alpha, max_iter = 10000)\n",
    "    rr.fit(x,y)\n",
    "    betas = rr.coef_\n",
    "    coefs_x0.append(betas[0][0])\n",
    "    coefs_x1.append(betas[0][1])\n",
    "    coefs_x2.append(betas[0][2])\n",
    "    alphas.append(alpha)\n",
    "    ypred = rr.predict(x)\n",
    "    sse_rr = sum((ypred-y)**2)\n",
    "\n",
    "sse_rr"
   ]
  },
  {
   "cell_type": "markdown",
   "metadata": {},
   "source": [
    "Lasso Regression"
   ]
  },
  {
   "cell_type": "code",
   "execution_count": 560,
   "metadata": {},
   "outputs": [],
   "source": [
    "coefs_x0l = []\n",
    "coefs_x1l = []\n",
    "coefs_x2l = []\n",
    "\n",
    "alphas = []\n",
    "\n",
    "for alpha in np.arange(0.01, 10, 0.01):\n",
    "    lasso = sk.Lasso(alpha, max_iter = 10000)\n",
    "    lasso.fit(x,y)\n",
    "    betas_lasso = lasso.coef_ \n",
    "    coefs_x0l.append(betas_lasso[0])\n",
    "    coefs_x1l.append(betas_lasso[1])\n",
    "    coefs_x2l.append(betas_lasso[2])\n",
    "    ypred_lasso = lasso.predict(x)\n",
    "    sse_lasso = sum((ypred_lasso-y)**2)\n",
    "    "
   ]
  },
  {
   "cell_type": "markdown",
   "metadata": {},
   "source": [
    "OLS "
   ]
  },
  {
   "cell_type": "code",
   "execution_count": 565,
   "metadata": {},
   "outputs": [],
   "source": [
    "coefs_x0ls = []\n",
    "coefs_x1ls = []\n",
    "coefs_x2ls = []\n",
    "\n",
    "alphas = []\n",
    "\n",
    "for alpha in np.arange(0.01, 10, 0.01):\n",
    "    rr = sk.Ridge(0, max_iter = 10000)\n",
    "    rr.fit(x,y)\n",
    "    betas = rr.coef_\n",
    "    coefs_x0ls.append(betas[0][0])\n",
    "    coefs_x1ls.append(betas[0][1])\n",
    "    coefs_x2ls.append(betas[0][2])\n",
    "    alphas.append(alpha)\n",
    "    ypred = rr.predict(x)\n",
    "    sse_rr = sum((ypred-y)**2)"
   ]
  },
  {
   "cell_type": "code",
   "execution_count": 571,
   "metadata": {},
   "outputs": [
    {
     "data": {
      "text/plain": [
       "Text(0, 0.5, 'betas')"
      ]
     },
     "execution_count": 571,
     "metadata": {},
     "output_type": "execute_result"
    },
    {
     "data": {
      "image/png": "[encoded data removed]",
      "text/plain": [
       "<Figure size 432x288 with 1 Axes>"
      ]
     },
     "metadata": {
      "needs_background": "light"
     },
     "output_type": "display_data"
    }
   ],
   "source": [
    "plt.plot(alphas, coefs_x0, 'b')\n",
    "plt.plot(alphas, coefs_x1, 'b')\n",
    "plt.plot(alphas, coefs_x2, 'b')\n",
    "\n",
    "plt.plot(alphas, coefs_x0l, 'g')\n",
    "plt.plot(alphas, coefs_x1l, 'g')\n",
    "plt.plot(alphas, coefs_x2l, 'g')\n",
    "\n",
    "plt.plot(alphas, coefs_x0ls, 'r')\n",
    "plt.plot(alphas, coefs_x1ls, 'r')\n",
    "plt.plot(alphas, coefs_x2ls, 'r')\n",
    "\n",
    "plt.xscale('log')\n",
    "plt.title('Ridge(blue), Lasso(green) and OLS(red) estimates')\n",
    "plt.xlabel('alpha')\n",
    "plt.ylabel('betas')\n"
   ]
  }
 ],
 "metadata": {
  "kernelspec": {
   "display_name": "Python 3",
   "language": "python",
   "name": "python3"
  },
  "language_info": {
   "codemirror_mode": {
    "name": "ipython",
    "version": 3
   },
   "file_extension": ".py",
   "mimetype": "text/x-python",
   "name": "python",
   "nbconvert_exporter": "python",
   "pygments_lexer": "ipython3",
   "version": "3.8.5"
  }
 },
 "nbformat": 4,
 "nbformat_minor": 4
}
